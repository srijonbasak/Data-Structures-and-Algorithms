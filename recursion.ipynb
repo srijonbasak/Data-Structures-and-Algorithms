{
 "cells": [
  {
   "cell_type": "code",
   "execution_count": 11,
   "id": "224f74ff",
   "metadata": {},
   "outputs": [
    {
     "name": "stdout",
     "output_type": "stream",
     "text": [
      "All dolls are opened\n"
     ]
    }
   ],
   "source": [
    "def openRussianDoll(doll):\n",
    "    if doll == 1:\n",
    "        print(\"All dolls are opened\")\n",
    "    else:\n",
    "        openRussianDoll(doll-1)\n",
    "openRussianDoll(5)"
   ]
  },
  {
   "cell_type": "code",
   "execution_count": 18,
   "id": "44014d08",
   "metadata": {},
   "outputs": [
    {
     "name": "stdout",
     "output_type": "stream",
     "text": [
      "I am the fourth Method\n",
      "I am the third Method\n",
      "I am the second Method\n",
      "I am the first Method\n"
     ]
    }
   ],
   "source": [
    "def firstMethod():\n",
    "    secondMethod()\n",
    "    print(\"I am the first Method\")\n",
    "\n",
    "def secondMethod():\n",
    "    thirdMethod()\n",
    "    print(\"I am the second Method\")\n",
    "\n",
    "def thirdMethod():\n",
    "    fourthMethod()\n",
    "    print(\"I am the third Method\")\n",
    "\n",
    "def fourthMethod():\n",
    "    print(\"I am the fourth Method\")\n",
    "\n",
    "\n",
    "firstMethod()"
   ]
  },
  {
   "cell_type": "code",
   "execution_count": 19,
   "id": "239f2bae",
   "metadata": {},
   "outputs": [
    {
     "name": "stdout",
     "output_type": "stream",
     "text": [
      "n is less than 1\n",
      "1\n",
      "2\n",
      "3\n",
      "4\n"
     ]
    }
   ],
   "source": [
    "def recursiveMethod(n):\n",
    "    if n<1:\n",
    "        print(\"n is less than 1\")\n",
    "    else: \n",
    "        recursiveMethod(n-1)\n",
    "        print(n)\n",
    "\n",
    "recursiveMethod(4)"
   ]
  },
  {
   "cell_type": "code",
   "execution_count": 20,
   "id": "1a74388c",
   "metadata": {},
   "outputs": [
    {
     "name": "stdout",
     "output_type": "stream",
     "text": [
      "8\n"
     ]
    }
   ],
   "source": [
    "def powerOfTwo(n):\n",
    "    if n == 0:\n",
    "         return 1\n",
    "    else:\n",
    "        power = powerOfTwo(n-1)\n",
    "        return power * 2\n",
    "\n",
    "print(powerOfTwo(3))"
   ]
  },
  {
   "cell_type": "raw",
   "id": "af36e36b",
   "metadata": {},
   "source": [
    "Factorial Problem Using Recursion"
   ]
  },
  {
   "cell_type": "code",
   "execution_count": 2,
   "id": "f75768a3",
   "metadata": {},
   "outputs": [
    {
     "data": {
      "text/plain": [
       "24"
      ]
     },
     "execution_count": 2,
     "metadata": {},
     "output_type": "execute_result"
    }
   ],
   "source": [
    "def factorial(num):\n",
    "    if num == 0:\n",
    "        return 1\n",
    "    else:\n",
    "        return num* factorial(num-1)\n",
    "factorial(4)"
   ]
  },
  {
   "cell_type": "raw",
   "id": "ecf9afdc",
   "metadata": {},
   "source": [
    "Fibonacci series using recursion\n",
    "0, 1, 1, 2, 3, 5, 8, 13, 21, 34........."
   ]
  },
  {
   "cell_type": "code",
   "execution_count": 17,
   "id": "9d92b179",
   "metadata": {},
   "outputs": [
    {
     "data": {
      "text/plain": [
       "13"
      ]
     },
     "execution_count": 17,
     "metadata": {},
     "output_type": "execute_result"
    }
   ],
   "source": [
    "def fibonacci(num):\n",
    "    if num in [0,1]:\n",
    "        return num\n",
    "    else:\n",
    "        return fibonacci(num-1)+fibonacci(num-2)\n",
    "fibonacci(7)"
   ]
  },
  {
   "cell_type": "code",
   "execution_count": null,
   "id": "79d70c19",
   "metadata": {},
   "outputs": [],
   "source": []
  }
 ],
 "metadata": {
  "kernelspec": {
   "display_name": "Python 3 (ipykernel)",
   "language": "python",
   "name": "python3"
  },
  "language_info": {
   "codemirror_mode": {
    "name": "ipython",
    "version": 3
   },
   "file_extension": ".py",
   "mimetype": "text/x-python",
   "name": "python",
   "nbconvert_exporter": "python",
   "pygments_lexer": "ipython3",
   "version": "3.9.7"
  }
 },
 "nbformat": 4,
 "nbformat_minor": 5
}
